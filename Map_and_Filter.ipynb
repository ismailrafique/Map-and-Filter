{
  "nbformat": 4,
  "nbformat_minor": 0,
  "metadata": {
    "colab": {
      "provenance": []
    },
    "kernelspec": {
      "name": "python3",
      "display_name": "Python 3"
    },
    "language_info": {
      "name": "python"
    }
  },
  "cells": [
    {
      "cell_type": "markdown",
      "source": [
        "Lesson 1: map() Function (Basic Level)\n",
        "\n",
        "👉 What is map()?\n",
        "\n",
        "map() applies a function to every element of a list (or other iterable).\n",
        "\n",
        "Think of it like a worker that takes each item, processes it, and gives you a new list.\n",
        "\n",
        "Syntax:\n",
        "\n",
        "map(function, iterable)\n"
      ],
      "metadata": {
        "id": "9s_vVkjH8USf"
      }
    },
    {
      "cell_type": "code",
      "source": [
        "numbers = [1, 2, 3, 4, 5]\n",
        "\n",
        "def double(x):\n",
        "    return x * 2\n",
        "\n",
        "result = map(double, numbers)\n",
        "\n",
        "print(list(result))\n",
        "# Output: [2, 4, 6, 8, 10]\n"
      ],
      "metadata": {
        "colab": {
          "base_uri": "https://localhost:8080/"
        },
        "id": "XgXEbxEt8gB2",
        "outputId": "0c63bdca-82c5-477f-82a6-de4200f26319"
      },
      "execution_count": 1,
      "outputs": [
        {
          "output_type": "stream",
          "name": "stdout",
          "text": [
            "[2, 4, 6, 8, 10]\n"
          ]
        }
      ]
    },
    {
      "cell_type": "code",
      "source": [
        "#Converting temperatures (Celsius → Fahrenheit)\n",
        "\n",
        "temps_c = [0, 20, 30, 40]\n",
        "\n",
        "def to_fahrenheit(c):\n",
        "    return (c * 9/5) + 32\n",
        "\n",
        "result = map(to_fahrenheit, temps_c)\n",
        "\n",
        "print(list(result))\n",
        "# Output: [32.0, 68.0, 86.0, 104.0]\n"
      ],
      "metadata": {
        "colab": {
          "base_uri": "https://localhost:8080/"
        },
        "id": "7oPdoWAZ8l6g",
        "outputId": "6df85a8e-19b7-4ada-e0a5-5f87d867ed23"
      },
      "execution_count": 2,
      "outputs": [
        {
          "output_type": "stream",
          "name": "stdout",
          "text": [
            "[32.0, 68.0, 86.0, 104.0]\n"
          ]
        }
      ]
    },
    {
      "cell_type": "markdown",
      "source": [
        "Lesson 2: filter() Function (Basic Level)\n",
        "\n",
        "👉 What is filter()?\n",
        "\n",
        "filter() keeps only the elements that satisfy a condition (True/False).\n",
        "\n",
        "Think of it like a strainer: it removes unwanted items.\n",
        "\n",
        "🔹 Syntax:\n",
        "\n",
        "filter(function, iterable)\n"
      ],
      "metadata": {
        "id": "W2BRnhD28s6i"
      }
    },
    {
      "cell_type": "code",
      "source": [
        "# Keep even numbers\n",
        "\n",
        "numbers = [1, 2, 3, 4, 5, 6]\n",
        "\n",
        "def is_even(x):\n",
        "    return x % 2 == 0\n",
        "\n",
        "result = filter(is_even, numbers)\n",
        "\n",
        "print(list(result))\n",
        "# Output: [2, 4, 6]\n"
      ],
      "metadata": {
        "colab": {
          "base_uri": "https://localhost:8080/"
        },
        "id": "-wlphvxo8vUv",
        "outputId": "cc283608-2c1a-4150-a847-5de49f62decf"
      },
      "execution_count": 3,
      "outputs": [
        {
          "output_type": "stream",
          "name": "stdout",
          "text": [
            "[2, 4, 6]\n"
          ]
        }
      ]
    },
    {
      "cell_type": "code",
      "source": [
        "#Example 2: Keep short words (length ≤ 3)\n",
        "\n",
        "words = [\"cat\", \"tiger\", \"dog\", \"elephant\"]\n",
        "\n",
        "def short_word(word):\n",
        "    return len(word) <= 3\n",
        "\n",
        "result = filter(short_word, words)\n",
        "\n",
        "print(list(result))\n",
        "# Output: ['cat', 'dog']\n"
      ],
      "metadata": {
        "colab": {
          "base_uri": "https://localhost:8080/"
        },
        "id": "O9SibRZA836j",
        "outputId": "ea77ebb2-8478-49c6-e212-f2fadc050237"
      },
      "execution_count": 4,
      "outputs": [
        {
          "output_type": "stream",
          "name": "stdout",
          "text": [
            "['cat', 'dog']\n"
          ]
        }
      ]
    },
    {
      "cell_type": "markdown",
      "source": [
        "🎯 Mini Project (Basic Level)\n",
        "\n",
        "👉 Even Number Doubler\n",
        "Write a program that:\n",
        "\n",
        "Takes a list of numbers.\n",
        "\n",
        "First uses filter() to keep only even numbers.\n",
        "\n",
        "Then uses map() to double those even numbers."
      ],
      "metadata": {
        "id": "bgefEfVk-RoB"
      }
    },
    {
      "cell_type": "code",
      "source": [
        "num=[1,2,4,6,7,8]\n",
        "\n",
        "#Method 1\n",
        "# even_num=list(filter(lambda x: x%2==0,num))\n",
        "\n",
        "# print(even_num)\n",
        "\n",
        "# doubled= map(lambda x : x*2, even_num)\n",
        "# print(list(doubled))\n",
        "\n",
        "#Method 2\n",
        "def is_even(num):\n",
        "  if num%2==0:\n",
        "    return num\n",
        "\n",
        "a=list(filter(is_even, num))\n",
        "print(list(a))\n",
        "\n",
        "def doubled(a):\n",
        "  return a*2\n",
        "\n",
        "b= map(doubled,a)\n",
        "print(list(b))\n"
      ],
      "metadata": {
        "colab": {
          "base_uri": "https://localhost:8080/"
        },
        "id": "hUQy8IA8-S9I",
        "outputId": "2f97e2fc-ebe2-4b49-cb80-256ca7fcc84a"
      },
      "execution_count": 35,
      "outputs": [
        {
          "output_type": "stream",
          "name": "stdout",
          "text": [
            "[2, 4, 6, 8]\n",
            "[4, 8, 12, 16]\n"
          ]
        }
      ]
    }
  ]
}